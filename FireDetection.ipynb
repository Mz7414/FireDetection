{
 "cells": [
  {
   "cell_type": "code",
   "execution_count": null,
   "id": "eb94afbb",
   "metadata": {},
   "outputs": [],
   "source": [
    "# 下載圖片並儲存\n",
    "import os\n",
    "\n",
    "#建立資料夾\n",
    "path = 'fire'\n",
    "if not os.path.isdir(path):\n",
    "    os.mkdir(path)\n",
    "    os.mkdir(f'{path}/Fire')\n",
    "    os.mkdir(f'{path}/smoke')\n",
    "    os.mkdir(f'{path}/parking')\n",
    "\n",
    "from icrawler.builtin import BingImageCrawler\n",
    "\n",
    "bing_crawler = BingImageCrawler(\n",
    "    downloader_threads=4, storage={\"root_dir\": \"fire/Fire\"})\n",
    "bing_crawler.crawl(keyword=\"fire\", max_num=300)\n",
    "\n",
    "bing_crawler = BingImageCrawler(\n",
    "    downloader_threads=4, storage={\"root_dir\": \"fire/smoke\"}\n",
    ")\n",
    "bing_crawler.crawl(keyword=\"smoke\", max_num=300)\n",
    "\n",
    "bing_crawler = BingImageCrawler(\n",
    "    downloader_threads=4, storage={\"root_dir\": \"fire/parking\"}\n",
    ")\n",
    "bing_crawler.crawl(keyword=\"parking\", max_num=300)"
   ]
  },
  {
   "cell_type": "code",
   "execution_count": null,
   "id": "abb3b2d7",
   "metadata": {},
   "outputs": [],
   "source": [
    "#建立驗證用資料夾\n",
    "path = 'fire2'\n",
    "if not os.path.isdir(path):\n",
    "    os.mkdir(path)\n",
    "    os.mkdir(f'{path}/Fire')\n",
    "    os.mkdir(f'{path}/smoke')\n",
    "    os.mkdir(f'{path}/parking')\n",
    "\n",
    "from icrawler.builtin import GoogleImageCrawler\n",
    "\n",
    "google_crawler = GoogleImageCrawler(\n",
    "    downloader_threads=4, storage={'root_dir': 'fire2/Fire'})\n",
    "google_crawler.crawl(keyword='fire', max_num=100)\n",
    "\n",
    "google_crawler = GoogleImageCrawler(\n",
    "    downloader_threads=4, storage={'root_dir': 'fire2/smoke'})\n",
    "google_crawler.crawl(keyword='smoke', max_num=100)\n",
    "\n",
    "google_crawler = GoogleImageCrawler(\n",
    "    downloader_threads=4, storage={'root_dir': 'fire2/parking'})\n",
    "google_crawler.crawl(keyword='parking', max_num=100)"
   ]
  },
  {
   "cell_type": "code",
   "execution_count": null,
   "id": "fad52486",
   "metadata": {},
   "outputs": [],
   "source": [
    "#檢測資料夾中是否有無法讀入的圖片並自動刪除\n",
    "from pathlib import Path\n",
    "import imghdr\n",
    "\n",
    "data_dir = \"fire/smoke\"\n",
    "image_extensions = [\".png\", \".jpg\"]  # add there all your images file extensions\n",
    "\n",
    "img_type_accepted_by_tf = [\"bmp\", \"gif\", \"jpeg\", \"png\"]\n",
    "for filepath in Path(data_dir).rglob(\"*\"):\n",
    "    if filepath.suffix.lower() in image_extensions:\n",
    "        img_type = imghdr.what(filepath)\n",
    "        if img_type is None:\n",
    "            os.remove(filepath)\n",
    "        elif img_type not in img_type_accepted_by_tf:\n",
    "            os.remove(filepath)"
   ]
  },
  {
   "cell_type": "code",
   "execution_count": 118,
   "id": "45ca9be8",
   "metadata": {
    "scrolled": true
   },
   "outputs": [
    {
     "name": "stdout",
     "output_type": "stream",
     "text": [
      "Found 318 files belonging to 3 classes.\n",
      "Found 161 files belonging to 3 classes.\n"
     ]
    },
    {
     "data": {
      "text/plain": [
       "(TensorSpec(shape=(None, 256, 256, 3), dtype=tf.float32, name=None),\n",
       " TensorSpec(shape=(None,), dtype=tf.int32, name=None))"
      ]
     },
     "execution_count": 118,
     "metadata": {},
     "output_type": "execute_result"
    }
   ],
   "source": [
    "# 到路徑尋找圖片資料夾並做資料預處理\n",
    "import tensorflow as tf\n",
    "\n",
    "normal = 511.0\n",
    "\n",
    "dataset = tf.keras.utils.image_dataset_from_directory(\"fire\",image_size=(256,256))\n",
    "dataset = dataset.map(lambda x,y : (x/normal,y*1))\n",
    "dataset.element_spec\n",
    "\n",
    "vdataset = tf.keras.utils.image_dataset_from_directory(\"fire2\",image_size=(256,256))\n",
    "vdataset = vdataset.map(lambda x,y : (x/normal,y*1))\n",
    "vdataset.element_spec\n",
    "#list(dataset.as_numpy_iterator())"
   ]
  },
  {
   "cell_type": "code",
   "execution_count": null,
   "id": "1ba87efa",
   "metadata": {},
   "outputs": [],
   "source": [
    "from tensorflow.keras import layers, models\n",
    "\n",
    "#tf.config.list_physical_devices('GPU') #啟用GPU\n",
    "\n",
    "model = models.Sequential()\n",
    "model.add(layers.Conv2D(32, (3, 3), activation=\"relu\", input_shape=(256, 256, 3)))\n",
    "model.add(layers.MaxPooling2D((2, 2)))\n",
    "model.add(layers.Conv2D(64, (3, 3), activation=\"relu\"))\n",
    "model.add(layers.MaxPooling2D((2, 2)))\n",
    "model.add(layers.Conv2D(64, (3, 3), activation=\"relu\"))\n",
    "\n",
    "model.add(layers.Flatten())\n",
    "model.add(layers.Dense(64, activation=\"relu\"))\n",
    "model.add(layers.Dense(10)) \n",
    "\n",
    "model.compile(\n",
    "    optimizer=\"adam\",\n",
    "    loss=tf.keras.losses.SparseCategoricalCrossentropy(from_logits=True),\n",
    "    metrics=[\"accuracy\"],\n",
    ")\n",
    "\n",
    "model.fit(dataset, epochs=7)"
   ]
  },
  {
   "cell_type": "code",
   "execution_count": 184,
   "id": "8a439998",
   "metadata": {},
   "outputs": [
    {
     "name": "stdout",
     "output_type": "stream",
     "text": [
      "1/1 [==============================] - 0s 10ms/step\n",
      "fire\n"
     ]
    },
    {
     "data": {
      "application/javascript": [
       "\n",
       "            setTimeout(function() {\n",
       "                var nbb_cell_id = 184;\n",
       "                var nbb_unformatted_code = \"from PIL import Image\\nimport tensorflow as tf\\nimport numpy as np\\n\\nim = Image.open(f\\\"match.jpg\\\")\\ny = tf.image.resize(im, (256, 256))\\nimage_resized = tf.reshape(y, (-1, 256, 256, 3))\\nprediction = model.predict(image_resized)\\n\\n# 0\\u8868\\u793a\\u6709\\u706b 1\\u8868\\u793a\\u6c92\\u6709 2\\u8868\\u793a\\u6709\\u7159\\na = np.argmax(prediction[0])\\nif a == 0:\\n    print(\\\"fire\\\")\\nelif a == 1:\\n    print(\\\"NoFire\\\")\\nelse:\\n    print(\\\"smoke\\\")\";\n",
       "                var nbb_formatted_code = \"from PIL import Image\\nimport tensorflow as tf\\nimport numpy as np\\n\\nim = Image.open(f\\\"match.jpg\\\")\\ny = tf.image.resize(im, (256, 256))\\nimage_resized = tf.reshape(y, (-1, 256, 256, 3))\\nprediction = model.predict(image_resized)\\n\\n# 0\\u8868\\u793a\\u6709\\u706b 1\\u8868\\u793a\\u6c92\\u6709 2\\u8868\\u793a\\u6709\\u7159\\na = np.argmax(prediction[0])\\nif a == 0:\\n    print(\\\"fire\\\")\\nelif a == 1:\\n    print(\\\"NoFire\\\")\\nelse:\\n    print(\\\"smoke\\\")\";\n",
       "                var nbb_cells = Jupyter.notebook.get_cells();\n",
       "                for (var i = 0; i < nbb_cells.length; ++i) {\n",
       "                    if (nbb_cells[i].input_prompt_number == nbb_cell_id) {\n",
       "                        if (nbb_cells[i].get_text() == nbb_unformatted_code) {\n",
       "                             nbb_cells[i].set_text(nbb_formatted_code);\n",
       "                        }\n",
       "                        break;\n",
       "                    }\n",
       "                }\n",
       "            }, 500);\n",
       "            "
      ],
      "text/plain": [
       "<IPython.core.display.Javascript object>"
      ]
     },
     "metadata": {},
     "output_type": "display_data"
    }
   ],
   "source": [
    "#預測效果\n",
    "from PIL import Image\n",
    "import tensorflow as tf\n",
    "import numpy as np\n",
    "\n",
    "im = Image.open(f\"match.jpg\") #圖片路徑\n",
    "y = tf.image.resize(im, (256, 256))\n",
    "image_resized = tf.reshape(y, (-1, 256, 256, 3))/normal\n",
    "prediction = model.predict(image_resized)\n",
    "\n",
    "# 0表示有火 1表示沒有 2表示有煙\n",
    "a = np.argmax(prediction[0])\n",
    "if a == 0:\n",
    "    print(\"fire\")\n",
    "elif a == 1:\n",
    "    print(\"NoFire\")\n",
    "else:\n",
    "    print(\"smoke\")"
   ]
  }
 ],
 "metadata": {
  "gist": {
   "data": {
    "description": "firePic.ipynb",
    "public": true
   },
   "id": ""
  },
  "kernelspec": {
   "display_name": "Python 3 (ipykernel)",
   "language": "python",
   "name": "python3"
  },
  "language_info": {
   "codemirror_mode": {
    "name": "ipython",
    "version": 3
   },
   "file_extension": ".py",
   "mimetype": "text/x-python",
   "name": "python",
   "nbconvert_exporter": "python",
   "pygments_lexer": "ipython3",
   "version": "3.9.13"
  },
  "varInspector": {
   "cols": {
    "lenName": 16,
    "lenType": 16,
    "lenVar": 40
   },
   "kernels_config": {
    "python": {
     "delete_cmd_postfix": "",
     "delete_cmd_prefix": "del ",
     "library": "var_list.py",
     "varRefreshCmd": "print(var_dic_list())"
    },
    "r": {
     "delete_cmd_postfix": ") ",
     "delete_cmd_prefix": "rm(",
     "library": "var_list.r",
     "varRefreshCmd": "cat(var_dic_list()) "
    }
   },
   "types_to_exclude": [
    "module",
    "function",
    "builtin_function_or_method",
    "instance",
    "_Feature"
   ],
   "window_display": false
  }
 },
 "nbformat": 4,
 "nbformat_minor": 5
}
